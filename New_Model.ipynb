{
  "nbformat": 4,
  "nbformat_minor": 0,
  "metadata": {
    "colab": {
      "provenance": [],
      "collapsed_sections": [
        "3HUNR8utna6W",
        "u1lWLs1doLAy",
        "VbTkGu53o8-6",
        "sVLEkCQwqUlf",
        "_ZTvDRr6qcQX",
        "MSnsnvbmq-Ge",
        "t8CPiPtCqsiH"
      ],
      "gpuType": "T4"
    },
    "kernelspec": {
      "name": "python3",
      "display_name": "Python 3"
    },
    "language_info": {
      "name": "python"
    },
    "accelerator": "GPU"
  },
  "cells": [
    {
      "cell_type": "markdown",
      "source": [
        "# **LoR**"
      ],
      "metadata": {
        "id": "3HUNR8utna6W"
      }
    },
    {
      "cell_type": "code",
      "execution_count": null,
      "metadata": {
        "colab": {
          "base_uri": "https://localhost:8080/"
        },
        "id": "y7XrbI8jnYKs",
        "outputId": "5fb27274-3895-48dd-cf8a-38c20a819c80"
      },
      "outputs": [
        {
          "output_type": "stream",
          "name": "stdout",
          "text": [
            "{'C': 0.01, 'penalty': 'l1', 'solver': 'liblinear'}\n",
            "Accuracy: 0.9510763209393346\n"
          ]
        }
      ],
      "source": [
        "import pandas as pd\n",
        "from sklearn.model_selection import train_test_split, GridSearchCV\n",
        "from sklearn.preprocessing import StandardScaler\n",
        "from sklearn.linear_model import LogisticRegression\n",
        "from sklearn.metrics import accuracy_score\n",
        "\n",
        "df = pd.read_csv('healthcare-dataset-stroke-data.csv')\n",
        "\n",
        "# แยกตัวแปรอิสระ (X) และตัวแปรตาม (y)\n",
        "X = df.drop(columns=['stroke'])\n",
        "y = df['stroke']\n",
        "\n",
        "# แบ่งข้อมูลเป็นชุด train และ test\n",
        "X_train, X_test, y_train, y_test = train_test_split(X, y, test_size=0.2, random_state=42, stratify=y)\n",
        "\n",
        "# ทำการ Normalize ข้อมูล\n",
        "scaler = StandardScaler()\n",
        "X_train_scaled = scaler.fit_transform(X_train)\n",
        "X_test_scaled = scaler.transform(X_test)\n",
        "\n",
        "# กำหนดค่าพารามิเตอร์สำหรับ Grid Search\n",
        "param_grid = {\n",
        "    'C': [0.01, 0.1, 1, 10, 100],  # ค่าความแรงของการลงโทษ L2\n",
        "    'penalty': ['l1', 'l2'],  # ประเภทของ Regularization\n",
        "    'solver': ['liblinear', 'saga']  # ตัวแก้ปัญหาสำหรับ Logistic Regression\n",
        "}\n",
        "\n",
        "# สร้างโมเดล Logistic Regression\n",
        "log_reg = LogisticRegression(max_iter=1000)\n",
        "\n",
        "# ใช้ GridSearchCV เพื่อหาค่าพารามิเตอร์ที่ดีที่สุด\n",
        "grid_search = GridSearchCV(log_reg, param_grid, cv=5, scoring='accuracy', n_jobs=-1)\n",
        "grid_search.fit(X_train_scaled, y_train)\n",
        "\n",
        "# แสดงค่าพารามิเตอร์ที่ดีที่สุด\n",
        "best_params = grid_search.best_params_\n",
        "print(best_params)\n",
        "\n",
        "accuracy_LoR = accuracy_score(y_test, grid_search.predict(X_test_scaled))\n",
        "print(\"Accuracy:\", accuracy_LoR)"
      ]
    },
    {
      "cell_type": "markdown",
      "source": [
        "#**DT**\n"
      ],
      "metadata": {
        "id": "u1lWLs1doLAy"
      }
    },
    {
      "cell_type": "code",
      "source": [
        "import pandas as pd\n",
        "from sklearn.model_selection import train_test_split, GridSearchCV\n",
        "from sklearn.tree import DecisionTreeClassifier\n",
        "from sklearn.feature_selection import SelectKBest, mutual_info_classif\n",
        "from sklearn.metrics import accuracy_score\n",
        "\n",
        "# โหลดข้อมูล\n",
        "data = pd.read_csv('healthcare-dataset-stroke-data.csv')\n",
        "\n",
        "# แปลงตัวแปรประเภทเป็นตัวเลขโดยใช้การเข้ารหัสแบบ one-hot\n",
        "data = pd.get_dummies(data, drop_first=True)\n",
        "\n",
        "# แยกคุณสมบัติและตัวแปรเป้าหมาย\n",
        "X = data.drop(columns=[\"stroke\"])  # คุณสมบัติ\n",
        "y = data[\"stroke\"]  # เป้าหมาย\n",
        "\n",
        "# แบ่งข้อมูลเป็นชุดฝึกและชุดทดสอบ\n",
        "X_train, X_test, y_train, y_test = train_test_split(X, y, test_size=0.2, random_state=42)\n",
        "\n",
        "# เลือกคุณสมบัติ K อันดับแรกโดยใช้ข้อมูลร่วม\n",
        "k = 5  # จำนวนคุณสมบัติที่ต้องการเลือก\n",
        "selector = SelectKBest(score_func=mutual_info_classif, k=k)\n",
        "X_train_selected = selector.fit_transform(X_train, y_train)\n",
        "X_test_selected = selector.transform(X_test)\n",
        "\n",
        "# ดึงชื่อคุณสมบัติที่ถูกเลือก\n",
        "selected_features = X_train.columns[selector.get_support()]\n",
        "print(\"Selected Features:\", selected_features)\n",
        "\n",
        "# กำหนดตารางพารามิเตอร์สำหรับ GridSearchCV\n",
        "param_grid = {\n",
        "    'criterion': ['gini', 'entropy'],  # เกณฑ์การแยก: gini หรือ entropy\n",
        "    'max_depth': [3, 5, 7, 10, None],  # ความลึกสูงสุด\n",
        "    'min_samples_split': [2, 5, 10],   # จำนวนตัวอย่างขั้นต่ำสำหรับการแยก\n",
        "    'min_samples_leaf': [1, 2, 4],     # จำนวนตัวอย่างขั้นต่ำที่ใบ\n",
        "    'max_features': [None, 'sqrt', 'log2']  # จำนวนคุณสมบัติสูงสุดที่พิจารณา\n",
        "}\n",
        "\n",
        "# สร้างตัวจำแนกแบบต้นไม้ตัดสินใจ\n",
        "DT_model = DecisionTreeClassifier(random_state=42)\n",
        "\n",
        "# ใช้ GridSearchCV\n",
        "grid_search = GridSearchCV(\n",
        "    estimator=DT_model,\n",
        "    param_grid=param_grid,\n",
        "    cv=5,  # การตรวจสอบข้าม 5 ส่วน\n",
        "    scoring='accuracy',  # วัดด้วยความแม่นยำ\n",
        "    n_jobs=-1,  # ใช้ทุกคอร์ของ CPU\n",
        "    verbose=1  # แสดงความคืบหน้า\n",
        ")\n",
        "\n",
        "# ฝึกโมเดลด้วยการค้นหาแบบกริด\n",
        "grid_search.fit(X_train_selected, y_train)\n",
        "\n",
        "# แสดงพารามิเตอร์และคะแนนที่ดีที่สุด\n",
        "print(\"\\nBest Parameters:\", grid_search.best_params_)\n",
        "print(\"Best Cross-validation Score:\", grid_search.best_score_)\n",
        "\n",
        "# ทำนายผลด้วยโมเดลที่ดีที่สุด\n",
        "best_model = grid_search.best_estimator_\n",
        "y_pred = best_model.predict(X_test_selected)\n",
        "\n",
        "# แสดงผลลัพธ์สุดท้าย\n",
        "accuracy_DT = accuracy_score(y_test, y_pred)\n",
        "print(\"Test Set Accuracy:\", accuracy_DT)\n"
      ],
      "metadata": {
        "id": "eCeDDUFLoROK",
        "colab": {
          "base_uri": "https://localhost:8080/"
        },
        "outputId": "c23aee7a-4ef7-476e-9756-4d468ac6c672"
      },
      "execution_count": null,
      "outputs": [
        {
          "output_type": "stream",
          "name": "stdout",
          "text": [
            "Selected Features: Index(['age', 'hypertension', 'heart_disease', 'ever_married', 'bmi'], dtype='object')\n",
            "Fitting 5 folds for each of 270 candidates, totalling 1350 fits\n",
            "\n",
            "Best Parameters: {'criterion': 'gini', 'max_depth': 3, 'max_features': None, 'min_samples_leaf': 4, 'min_samples_split': 2}\n",
            "Best Cross-validation Score: 0.9542565830622498\n",
            "Test Set Accuracy: 0.9393346379647749\n"
          ]
        }
      ]
    },
    {
      "cell_type": "markdown",
      "source": [
        "#**KNN**"
      ],
      "metadata": {
        "id": "VbTkGu53o8-6"
      }
    },
    {
      "cell_type": "code",
      "source": [
        "import pandas as pd\n",
        "import numpy as np\n",
        "from sklearn.model_selection import train_test_split, GridSearchCV\n",
        "from sklearn.neighbors import KNeighborsClassifier\n",
        "from sklearn.preprocessing import StandardScaler\n",
        "from sklearn.metrics import accuracy_score, classification_report\n",
        "\n",
        "# โหลดข้อมูล\n",
        "data = pd.read_csv('healthcare-dataset-stroke-data.csv')\n",
        "\n",
        "# แปลงตัวแปรเชิงพาณิชย์ให้เป็นตัวเลขด้วย One-Hot Encoding\n",
        "data = pd.get_dummies(data, drop_first=True)\n",
        "\n",
        "# แยกคุณลักษณะ (features) และตัวแปรเป้าหมาย (target)\n",
        "X = data.drop(columns=[\"stroke\"])\n",
        "y = data[\"stroke\"]\n",
        "\n",
        "# แบ่งข้อมูลเป็นชุดฝึก (train) และชุดทดสอบ (test)\n",
        "X_train, X_test, y_train, y_test = train_test_split(X, y, test_size=0.2, random_state=42)\n",
        "\n",
        "# ปรับขนาดคุณลักษณะ (Feature Scaling)\n",
        "scaler = StandardScaler()\n",
        "X_train_scaled = scaler.fit_transform(X_train)\n",
        "X_test_scaled = scaler.transform(X_test)\n",
        "\n",
        "# กำหนด parameters สำหรับ Grid Search\n",
        "param_grid = {\n",
        "    'n_neighbors': list(range(1, 31)),  # ทดสอบ k จาก 1 ถึง 30\n",
        "    'weights': ['uniform', 'distance'],  # ลองทั้งแบบ uniform และ distance\n",
        "    'algorithm': ['auto', 'ball_tree', 'kd_tree', 'brute'],  # อัลกอริทึมในการค้นหา\n",
        "    'p': [1, 2]  # Minkowski metric กับ p=1 (Manhattan) และ p=2 (Euclidean)\n",
        "}\n",
        "\n",
        "# สร้าง GridSearchCV\n",
        "knn_grid = GridSearchCV(\n",
        "    estimator=KNeighborsClassifier(),\n",
        "    param_grid=param_grid,\n",
        "    cv=5,  # 5-fold cross-validation\n",
        "    scoring='accuracy',  # วัดประสิทธิภาพด้วย accuracy\n",
        "    n_jobs=-1  # ใช้ CPU ทั้งหมด\n",
        ")\n",
        "\n",
        "# ฝึกโมเดลด้วย Grid Search\n",
        "knn_grid.fit(X_train_scaled, y_train)\n",
        "\n",
        "# พิมพ์ผลลัพธ์ที่ดีที่สุด\n",
        "print(\"Best Parameters:\", knn_grid.best_params_)\n",
        "print(\"Best Cross-validation Score:\", knn_grid.best_score_)\n",
        "\n",
        "# ทำนายผลลัพธ์ด้วยโมเดลที่ดีที่สุด\n",
        "best_knn = knn_grid.best_estimator_\n",
        "y_pred = best_knn.predict(X_test_scaled)\n",
        "\n",
        "# ประเมินประสิทธิภาพโมเดล\n",
        "print(\"\\nTest Set Performance:\")\n",
        "print(\"Accuracy:\", accuracy_score(y_test, y_pred))\n"
      ],
      "metadata": {
        "id": "bFCE0k9wo_ur",
        "colab": {
          "base_uri": "https://localhost:8080/"
        },
        "outputId": "af0b54fa-5c30-47fb-c8d0-88d5f81c1542"
      },
      "execution_count": null,
      "outputs": [
        {
          "output_type": "stream",
          "name": "stdout",
          "text": [
            "Best Parameters: {'algorithm': 'auto', 'n_neighbors': 6, 'p': 2, 'weights': 'uniform'}\n",
            "Best Cross-validation Score: 0.9542565830622498\n",
            "\n",
            "Test Set Performance:\n",
            "Accuracy: 0.9393346379647749\n"
          ]
        }
      ]
    },
    {
      "cell_type": "markdown",
      "source": [
        "# **GB**"
      ],
      "metadata": {
        "id": "sVLEkCQwqUlf"
      }
    },
    {
      "cell_type": "code",
      "source": [
        "import pandas as pd\n",
        "from sklearn.model_selection import train_test_split, RandomizedSearchCV\n",
        "from sklearn.metrics import accuracy_score\n",
        "from sklearn.ensemble import GradientBoostingClassifier\n",
        "from sklearn.preprocessing import StandardScaler\n",
        "\n",
        "# โหลดข้อมูล\n",
        "data = pd.read_csv('healthcare-dataset-stroke-data.csv')\n",
        "\n",
        "# แปลงตัวแปรเชิงพาณิชย์ให้เป็นตัวเลขด้วย One-Hot Encoding\n",
        "data = pd.get_dummies(data, drop_first=True)  # drop_first=True เพื่อหลีกเลี่ยงปัญหาของ dummy variable trap\n",
        "\n",
        "# แยกคุณลักษณะ (features) และตัวแปรเป้าหมาย (target)\n",
        "X = data.drop(columns=[\"stroke\"])  # ใช้ทุกคอลัมน์ยกเว้นตัวแปรเป้าหมาย\n",
        "y = data[\"stroke\"]  # ตัวแปรเป้าหมาย\n",
        "\n",
        "# แบ่งข้อมูลเป็นชุดฝึก (train) และชุดทดสอบ (test)\n",
        "X_train, X_test, y_train, y_test = train_test_split(X, y, test_size=0.2, random_state=42)\n",
        "\n",
        "# ปรับขนาดคุณลักษณะ (Feature Scaling)\n",
        "scaler = StandardScaler()\n",
        "X_train = scaler.fit_transform(X_train)\n",
        "X_test = scaler.transform(X_test)\n",
        "\n",
        "# กำหนดตารางพารามิเตอร์สำหรับ RandomizedSearchCV\n",
        "param_dist = {\n",
        "    'n_estimators': [100, 200],  # ลดจำนวนต้นไม้เพื่อลดเวลา\n",
        "    'learning_rate': [0.01, 0.1],  # ลดจำนวนค่าที่ต้องค้นหา\n",
        "    'max_depth': [3, 5],  # ลดจำนวนค่าความลึก\n",
        "    'min_samples_split': [2, 5],  # ลดค่า split ที่ต้องลอง\n",
        "    'min_samples_leaf': [1, 2]  # ลดค่า leaf ที่ต้องลอง\n",
        "}\n",
        "\n",
        "# สร้างโมเดล Gradient Boosting\n",
        "gb_model = GradientBoostingClassifier(random_state=42)\n",
        "\n",
        "# ใช้ RandomizedSearchCV แทน GridSearchCV\n",
        "random_search = RandomizedSearchCV(\n",
        "    estimator=gb_model,\n",
        "    param_distributions=param_dist,\n",
        "    n_iter=20,  # ลดจำนวนชุดค่าพารามิเตอร์ที่ต้องลอง\n",
        "    cv=3,  # ลดจำนวน cross-validation folds\n",
        "    scoring='accuracy',  # วัดด้วยความแม่นยำ\n",
        "    n_jobs=-1,  # ใช้ทุกคอร์ของ CPU\n",
        "    random_state=42\n",
        ")\n",
        "\n",
        "# ฝึกโมเดลด้วยการค้นหาแบบสุ่ม\n",
        "random_search.fit(X_train, y_train)\n",
        "\n",
        "# แสดงพารามิเตอร์และคะแนนที่ดีที่สุด\n",
        "print(\"\\nBest Parameters:\", random_search.best_params_)\n",
        "print(\"Best Cross-validation Score:\", random_search.best_score_)\n",
        "\n",
        "# ทำนายผลด้วยโมเดลที่ดีที่สุด\n",
        "best_model = random_search.best_estimator_\n",
        "y_pred_gb = best_model.predict(X_test)\n",
        "\n",
        "# แสดงผลลัพธ์สุดท้าย\n",
        "accuracy_gb = accuracy_score(y_test, y_pred_gb)\n",
        "print(\"Gradient Boosting Test Set Accuracy:\", accuracy_gb)"
      ],
      "metadata": {
        "colab": {
          "base_uri": "https://localhost:8080/"
        },
        "id": "D9DPlwXgv0Xr",
        "outputId": "758262b9-820d-4462-ec32-f0d998777491"
      },
      "execution_count": null,
      "outputs": [
        {
          "output_type": "stream",
          "name": "stdout",
          "text": [
            "\n",
            "Best Parameters: {'n_estimators': 100, 'min_samples_split': 2, 'min_samples_leaf': 2, 'max_depth': 3, 'learning_rate': 0.01}\n",
            "Best Cross-validation Score: 0.954256414455315\n",
            "Gradient Boosting Test Set Accuracy: 0.9393346379647749\n"
          ]
        }
      ]
    },
    {
      "cell_type": "markdown",
      "source": [
        "# **ADABOOST**"
      ],
      "metadata": {
        "id": "_ZTvDRr6qcQX"
      }
    },
    {
      "cell_type": "code",
      "source": [
        "import pandas as pd\n",
        "from sklearn.model_selection import train_test_split, RandomizedSearchCV\n",
        "from sklearn.metrics import accuracy_score\n",
        "from sklearn.ensemble import AdaBoostClassifier\n",
        "from sklearn.preprocessing import StandardScaler\n",
        "\n",
        "# โหลดข้อมูล\n",
        "data = pd.read_csv('healthcare-dataset-stroke-data.csv')\n",
        "\n",
        "# แปลงตัวแปรเชิงพาณิชย์ให้เป็นตัวเลขด้วย One-Hot Encoding\n",
        "data = pd.get_dummies(data, drop_first=True)  # drop_first=True เพื่อหลีกเลี่ยงปัญหาของ dummy variable trap\n",
        "\n",
        "# แยกคุณลักษณะ (features) และตัวแปรเป้าหมาย (target)\n",
        "X = data.drop(columns=[\"stroke\"])  # ใช้ทุกคอลัมน์ยกเว้นตัวแปรเป้าหมาย\n",
        "y = data[\"stroke\"]  # ตัวแปรเป้าหมาย\n",
        "\n",
        "# แบ่งข้อมูลเป็นชุดฝึก (train) และชุดทดสอบ (test)\n",
        "X_train, X_test, y_train, y_test = train_test_split(X, y, test_size=0.2, random_state=42)\n",
        "\n",
        "# ปรับขนาดคุณลักษณะ (Feature Scaling)\n",
        "scaler = StandardScaler()\n",
        "X_train = scaler.fit_transform(X_train)\n",
        "X_test = scaler.transform(X_test)\n",
        "\n",
        "# กำหนดตารางพารามิเตอร์สำหรับ RandomizedSearchCV\n",
        "param_dist = {\n",
        "    'n_estimators': [50, 100],  # ลดจำนวนตัวประมาณการเพื่อลดเวลา\n",
        "    'learning_rate': [0.01, 0.1]  # ลดจำนวนค่าที่ต้องค้นหา\n",
        "}\n",
        "\n",
        "# สร้างโมเดล AdaBoost\n",
        "ada_model = AdaBoostClassifier(random_state=42)\n",
        "\n",
        "# ใช้ RandomizedSearchCV แทน GridSearchCV\n",
        "random_search = RandomizedSearchCV(\n",
        "    estimator=ada_model,\n",
        "    param_distributions=param_dist,\n",
        "    n_iter=10,  # ลดจำนวนชุดค่าพารามิเตอร์ที่ต้องลอง\n",
        "    cv=3,  # ลดจำนวน cross-validation folds\n",
        "    scoring='accuracy',  # วัดด้วยความแม่นยำ\n",
        "    n_jobs=-1,  # ใช้ทุกคอร์ของ CPU\n",
        "    random_state=42\n",
        ")\n",
        "\n",
        "# ฝึกโมเดลด้วยการค้นหาแบบสุ่ม\n",
        "random_search.fit(X_train, y_train)\n",
        "\n",
        "# แสดงพารามิเตอร์และคะแนนที่ดีที่สุด\n",
        "print(\"\\nBest Parameters:\", random_search.best_params_)\n",
        "print(\"Best Cross-validation Score:\", random_search.best_score_)\n",
        "\n",
        "# ทำนายผลด้วยโมเดลที่ดีที่สุด\n",
        "best_model = random_search.best_estimator_\n",
        "y_pred_ada = best_model.predict(X_test)\n",
        "\n",
        "# แสดงผลลัพธ์สุดท้าย\n",
        "accuracy_ada = accuracy_score(y_test, y_pred_ada)\n",
        "print(\"AdaBoost Test Set Accuracy:\", accuracy_ada)"
      ],
      "metadata": {
        "colab": {
          "base_uri": "https://localhost:8080/"
        },
        "id": "tZOYpwaEwrqX",
        "outputId": "2cc36eca-992b-4a05-b19e-6545bf501c0d"
      },
      "execution_count": null,
      "outputs": [
        {
          "output_type": "stream",
          "name": "stderr",
          "text": [
            "/usr/local/lib/python3.11/dist-packages/sklearn/model_selection/_search.py:317: UserWarning: The total space of parameters 4 is smaller than n_iter=10. Running 4 iterations. For exhaustive searches, use GridSearchCV.\n",
            "  warnings.warn(\n"
          ]
        },
        {
          "output_type": "stream",
          "name": "stdout",
          "text": [
            "\n",
            "Best Parameters: {'n_estimators': 50, 'learning_rate': 0.01}\n",
            "Best Cross-validation Score: 0.954256414455315\n",
            "AdaBoost Test Set Accuracy: 0.9393346379647749\n"
          ]
        }
      ]
    },
    {
      "cell_type": "markdown",
      "source": [
        "# **RANDOM FOREST**"
      ],
      "metadata": {
        "id": "MSnsnvbmq-Ge"
      }
    },
    {
      "cell_type": "code",
      "source": [
        "import pandas as pd\n",
        "import numpy as np\n",
        "from sklearn.model_selection import train_test_split, RandomizedSearchCV\n",
        "from sklearn.ensemble import RandomForestClassifier\n",
        "from sklearn.preprocessing import StandardScaler\n",
        "\n",
        "# โหลดข้อมูล\n",
        "data = pd.read_csv('healthcare-dataset-stroke-data.csv')\n",
        "\n",
        "# แปลงตัวแปรเชิงพาณิชย์ให้เป็นตัวเลขด้วย One-Hot Encoding\n",
        "data = pd.get_dummies(data, drop_first=True)\n",
        "\n",
        "# แยกคุณลักษณะ (features) และตัวแปรเป้าหมาย (target)\n",
        "X = data.drop(columns=[\"stroke\"])\n",
        "y = data[\"stroke\"]\n",
        "\n",
        "# แบ่งข้อมูลเป็นชุดฝึก (train) และชุดทดสอบ (test)\n",
        "X_train, X_test, y_train, y_test = train_test_split(X, y, test_size=0.2, random_state=42)\n",
        "\n",
        "# ปรับขนาดข้อมูล (Standardization)\n",
        "scaler = StandardScaler()\n",
        "X_train = scaler.fit_transform(X_train)\n",
        "X_test = scaler.transform(X_test)\n",
        "\n",
        "# กำหนดช่วงค่าพารามิเตอร์สำหรับ Randomized Search\n",
        "param_dist = {\n",
        "    'n_estimators': np.arange(50, 301, 50),\n",
        "    'max_depth': np.arange(3, 21, 3),\n",
        "    'min_samples_split': np.arange(2, 11, 2),\n",
        "    'min_samples_leaf': np.arange(1, 11, 2),\n",
        "    'max_features': ['sqrt', 'log2']\n",
        "}\n",
        "\n",
        "# สร้างโมเดล Random Forest\n",
        "rf_model = RandomForestClassifier(random_state=42)\n",
        "\n",
        "# ใช้ Randomized Search\n",
        "random_search = RandomizedSearchCV(\n",
        "    rf_model,\n",
        "    param_distributions=param_dist,\n",
        "    n_iter=20,  # ลองพารามิเตอร์ 20 ชุด\n",
        "    cv=5,       # ใช้ 5-fold cross-validation\n",
        "    scoring='accuracy',\n",
        "    n_jobs=-1,\n",
        "    random_state=42\n",
        ")\n",
        "\n",
        "# ฝึกโมเดล (หลังจากที่แน่ใจว่า X_train มีค่าจริง)\n",
        "random_search.fit(X_train, y_train)\n",
        "\n",
        "# แสดงค่าพารามิเตอร์ที่ดีที่สุด\n",
        "print(\"Best Parameters:\", random_search.best_params_)\n",
        "print(\"Best Accuracy:\", random_search.best_score_)\n",
        "\n",
        "# ใช้โมเดลที่ดีที่สุด\n",
        "best_rf_model = random_search.best_estimator_"
      ],
      "metadata": {
        "colab": {
          "base_uri": "https://localhost:8080/"
        },
        "id": "AB4bnxxJrC8e",
        "outputId": "0e2efc25-88ad-43b9-9558-9b154b19963a"
      },
      "execution_count": null,
      "outputs": [
        {
          "output_type": "stream",
          "name": "stdout",
          "text": [
            "Best Parameters: {'n_estimators': 100, 'min_samples_split': 2, 'min_samples_leaf': 7, 'max_features': 'sqrt', 'max_depth': 18}\n",
            "Best Accuracy: 0.9542565830622498\n"
          ]
        }
      ]
    },
    {
      "cell_type": "markdown",
      "source": [
        "# **VOTING**"
      ],
      "metadata": {
        "id": "t8CPiPtCqsiH"
      }
    },
    {
      "cell_type": "code",
      "source": [
        "import pandas as pd\n",
        "import numpy as np\n",
        "from sklearn.model_selection import train_test_split, RandomizedSearchCV\n",
        "from sklearn.preprocessing import StandardScaler\n",
        "from sklearn.linear_model import LogisticRegression\n",
        "from sklearn.tree import DecisionTreeClassifier\n",
        "from sklearn.neighbors import KNeighborsClassifier\n",
        "from sklearn.ensemble import GradientBoostingClassifier, AdaBoostClassifier, RandomForestClassifier, VotingClassifier\n",
        "from sklearn.metrics import accuracy_score\n",
        "\n",
        "# โหลดข้อมูล\n",
        "data = pd.read_csv('healthcare-dataset-stroke-data.csv')\n",
        "\n",
        "# แปลงตัวแปรหมวดหมู่เป็นตัวเลขด้วย One-Hot Encoding\n",
        "data = pd.get_dummies(data, drop_first=True)\n",
        "\n",
        "# แยกตัวแปรอิสระและตัวแปรตาม\n",
        "X = data.drop(columns=[\"stroke\"])\n",
        "y = data[\"stroke\"]\n",
        "\n",
        "# แบ่งข้อมูลเป็น train และ test\n",
        "X_train, X_test, y_train, y_test = train_test_split(X, y, test_size=0.2, random_state=42, stratify=y)\n",
        "\n",
        "# ปรับขนาดข้อมูล (Standardization)\n",
        "scaler = StandardScaler()\n",
        "X_train_scaled = scaler.fit_transform(X_train)\n",
        "X_test_scaled = scaler.transform(X_test)\n",
        "\n",
        "# โหลดโมเดลที่ดีที่สุดจาก Randomized Search ของแต่ละตัว\n",
        "log_reg = LogisticRegression(C=1, penalty='l2', solver='liblinear', max_iter=1000)\n",
        "dt = DecisionTreeClassifier(criterion='gini', max_depth=5, min_samples_split=5, min_samples_leaf=2, max_features='sqrt', random_state=42)\n",
        "knn = KNeighborsClassifier(n_neighbors=5, weights='distance', algorithm='auto', p=2)\n",
        "gb = GradientBoostingClassifier(n_estimators=100, learning_rate=0.1, max_depth=3, min_samples_split=5, min_samples_leaf=2, random_state=42)\n",
        "ada = AdaBoostClassifier(n_estimators=100, learning_rate=0.1, random_state=42)\n",
        "rf = RandomForestClassifier(n_estimators=200, max_depth=10, min_samples_split=5, min_samples_leaf=2, max_features='sqrt', random_state=42)\n",
        "\n",
        "# สร้าง Voting Classifier\n",
        "voting_clf = VotingClassifier(estimators=[\n",
        "    ('Logistic Regression', log_reg),\n",
        "    ('Decision Tree', dt),\n",
        "    ('KNN', knn),\n",
        "    ('Gradient Boosting', gb),\n",
        "    ('AdaBoost', ada),\n",
        "    ('Random Forest', rf)\n",
        "], voting='soft')\n",
        "\n",
        "# กำหนดพารามิเตอร์สำหรับ Randomized Search\n",
        "param_dist = {\n",
        "    'weights': [[1, 1, 1, 1, 1, 1], [2, 1, 1, 1, 1, 1], [1, 2, 1, 1, 1, 1], [1, 1, 2, 1, 1, 1], [1, 1, 1, 2, 1, 1]]\n",
        "}\n",
        "\n",
        "# ใช้ Randomized Search เพื่อหา Voting Weight ที่ดีที่สุด\n",
        "random_search = RandomizedSearchCV(voting_clf, param_distributions=param_dist, n_iter=5, cv=3, scoring='accuracy', n_jobs=-1, random_state=42)\n",
        "random_search.fit(X_train_scaled, y_train)\n",
        "\n",
        "# แสดงค่าพารามิเตอร์ที่ดีที่สุด\n",
        "print(\"Best Parameters:\", random_search.best_params_)\n",
        "print(\"Best Cross-validation Score:\", random_search.best_score_)\n",
        "\n",
        "# ทำนายผลลัพธ์ด้วยโมเดลที่ดีที่สุด\n",
        "y_pred = random_search.best_estimator_.predict(X_test_scaled)\n",
        "\n",
        "# แสดงผลลัพธ์สุดท้าย\n",
        "accuracy_voting = accuracy_score(y_test, y_pred)\n",
        "print(\"Voting Classifier Test Set Accuracy:\", accuracy_voting)"
      ],
      "metadata": {
        "id": "d-829vSBqxA_",
        "colab": {
          "base_uri": "https://localhost:8080/"
        },
        "outputId": "a4070bb1-5959-41e8-acb1-fdbecf7c4fbf"
      },
      "execution_count": null,
      "outputs": [
        {
          "output_type": "stream",
          "name": "stdout",
          "text": [
            "Best Parameters: {'weights': [1, 1, 1, 1, 1, 1]}\n",
            "Best Cross-validation Score: 0.9513209933602886\n",
            "Voting Classifier Test Set Accuracy: 0.9510763209393346\n"
          ]
        }
      ]
    }
  ]
}